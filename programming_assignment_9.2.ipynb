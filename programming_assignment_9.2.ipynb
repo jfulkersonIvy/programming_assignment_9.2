{
 "cells": [
  {
   "cell_type": "code",
   "execution_count": 1,
   "id": "a3117d5e",
   "metadata": {},
   "outputs": [
    {
     "data": {
      "text/plain": [
       "<__main__.InvestmentCalculator at 0x24e4d1f9ee0>"
      ]
     },
     "execution_count": 1,
     "metadata": {},
     "output_type": "execute_result"
    }
   ],
   "source": [
    "from tkinter import *\n",
    "\n",
    "class InvestmentCalculator:\n",
    "\n",
    "    def __init__(self):\n",
    "        window = Tk()\n",
    "        window.title(\"Investment Calculator\")\n",
    "\n",
    "        Label(window, text = \"Investment Amount\").grid(row = 1, column = 1, sticky = W)\n",
    "        Label(window, text = \"Years\").grid(row = 2, column = 1, sticky = W)\n",
    "        Label(window, text = \"Annual Interest Rate\").grid(row = 3, column = 1, sticky = W)\n",
    "        Label(window, text = \"Future Value\").grid(row = 4, column = 1, sticky = W)\n",
    "\n",
    "        self.investmentAmountVar = StringVar()\n",
    "        Entry(window, textvariable = self.investmentAmountVar, justify = RIGHT).grid(row = 1, column = 2)\n",
    "\n",
    "        self.yearsVar =StringVar()\n",
    "        Entry(window, textvariable = self.yearsVar, justify = RIGHT).grid(row = 2, column = 2)\n",
    "\n",
    "        self.annualIntRateVar = StringVar()\n",
    "        Entry(window, justify = RIGHT, textvariable = self.annualIntRateVar).grid(row = 3, column = 2)\n",
    "\n",
    "        self.futureValueVar = StringVar()\n",
    "        Label(window, textvariable = self.futureValueVar).grid(row = 4, column = 2, sticky = E)\n",
    "        \n",
    "        Button(window, text = \"Calculate\", command = self.getFuture).grid(row = 5, column = 2, sticky = E)\n",
    "        \n",
    "\n",
    "        window.mainloop()\n",
    "\n",
    "    def getFuture(self):\n",
    "        futureValue = self.getValue(float(self.investmentAmountVar.get()), float(self.yearsVar.get()), float(self.annualIntRateVar.get()) / 1200)\n",
    "        self.futureValueVar.set(format(futureValue, \"10.2f\"))\n",
    "\n",
    "    def getValue(self, investmentAmount, years, monthlyIntRate):\n",
    "        futureValue = investmentAmount * ((1 + monthlyIntRate) ** (years * 12))\n",
    "\n",
    "        return futureValue\n",
    "\n",
    "InvestmentCalculator()"
   ]
  },
  {
   "cell_type": "code",
   "execution_count": null,
   "id": "cca14c60",
   "metadata": {},
   "outputs": [],
   "source": []
  }
 ],
 "metadata": {
  "kernelspec": {
   "display_name": "Python 3 (ipykernel)",
   "language": "python",
   "name": "python3"
  },
  "language_info": {
   "codemirror_mode": {
    "name": "ipython",
    "version": 3
   },
   "file_extension": ".py",
   "mimetype": "text/x-python",
   "name": "python",
   "nbconvert_exporter": "python",
   "pygments_lexer": "ipython3",
   "version": "3.9.12"
  }
 },
 "nbformat": 4,
 "nbformat_minor": 5
}
